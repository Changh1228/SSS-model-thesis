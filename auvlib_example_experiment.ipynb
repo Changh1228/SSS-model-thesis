{
 "cells": [
  {
   "cell_type": "markdown",
   "metadata": {},
   "source": [
    "# auvlib for reading John's experiment data\n",
    "\n",
    "Start by importing the necessary libraries:"
   ]
  },
  {
   "cell_type": "code",
   "execution_count": 24,
   "metadata": {},
   "outputs": [],
   "source": [
    "from auvlib.data_tools import xtf_data, std_data\n",
    "from auvlib.bathy_maps import mesh_map\n",
    "import numpy as np"
   ]
  },
  {
   "cell_type": "markdown",
   "metadata": {},
   "source": [
    "## Multi-beam data\n",
    "\n",
    "Then read some multibeam data, in this case from the current folder"
   ]
  },
  {
   "cell_type": "code",
   "execution_count": 10,
   "metadata": {},
   "outputs": [
    {
     "name": "stdout",
     "output_type": "stream",
     "text": [
      "Total number of multibeam pings: 113156\n"
     ]
    }
   ],
   "source": [
    "std_pings = std_data.mbes_ping.read_data(\"std_pings_centered.cereal\")\n",
    "std_ping0 = std_pings[0] # let's just look at the first ping!\n",
    "\n",
    "print \"Total number of multibeam pings:\", len(std_pings)"
   ]
  },
  {
   "cell_type": "markdown",
   "metadata": {},
   "source": [
    "The multibeam pings contain the position of the sensor in world and the position of the sea floor hits, also in the world:"
   ]
  },
  {
   "cell_type": "code",
   "execution_count": 14,
   "metadata": {},
   "outputs": [
    {
     "name": "stdout",
     "output_type": "stream",
     "text": [
      "Position of sensor: [ 3.17765681e+02  2.29264928e+03 -7.73131311e-01]\n",
      "Number of multibeam hits: 400\n",
      "Position of first hit: [ 333.73555232 2286.01296852  -30.13863271]\n",
      "Time of data collection: 2019-Jun-15 08:11:59.146000\n"
     ]
    }
   ],
   "source": [
    "print \"Position of sensor:\", std_ping0.pos_\n",
    "print \"Number of multibeam hits:\", len(std_ping0.beams)\n",
    "print \"Position of first hit:\", std_ping0.beams[0]\n",
    "print \"Time of data collection:\", std_ping0.time_string_"
   ]
  },
  {
   "cell_type": "markdown",
   "metadata": {},
   "source": [
    "## Sidescan data\n",
    "\n",
    "Now let's read some sidescan data:"
   ]
  },
  {
   "cell_type": "code",
   "execution_count": 13,
   "metadata": {},
   "outputs": [
    {
     "name": "stdout",
     "output_type": "stream",
     "text": [
      "Total number of sidescan pings: 44116\n"
     ]
    }
   ],
   "source": [
    "xtf_pings = xtf_data.xtf_sss_ping.read_data(\"xtf_pings_centered.cereal\")\n",
    "xtf_ping0 = xtf_pings[0] # let's just look at the first ping!\n",
    "\n",
    "print \"Total number of sidescan pings:\", len(xtf_pings)"
   ]
  },
  {
   "cell_type": "markdown",
   "metadata": {},
   "source": [
    "The sidescan also contains postions and timestamps, but rather than positions, it contains the intensities returned at different times:"
   ]
  },
  {
   "cell_type": "code",
   "execution_count": 21,
   "metadata": {},
   "outputs": [
    {
     "name": "stdout",
     "output_type": "stream",
     "text": [
      "Position of sensor: [892.84366958 450.87228101 -43.46136475]\n",
      "Number of port sidescan intensities: 14212\n",
      "Number of starboard sidescan intensities: 14212\n",
      "Time of data collection: 2019-Jun-15 10:00:36.430000\n",
      "Intensity of first port hit (time 0s): 0\n",
      "Time of arrival of last port intensity (s): 0.22739200294\n",
      "Intensity of last port hit: 102\n"
     ]
    }
   ],
   "source": [
    "print \"Position of sensor:\", xtf_ping0.pos_\n",
    "print \"Number of port sidescan intensities:\", len(xtf_ping0.port.pings)\n",
    "print \"Number of starboard sidescan intensities:\", len(xtf_ping0.stbd.pings)\n",
    "print \"Time of data collection:\", xtf_ping0.time_string_\n",
    "print \"Intensity of first port hit (time 0s):\", xtf_ping0.port.pings[0]\n",
    "print \"Time of arrival of last port intensity (s):\", xtf_ping0.port.time_duration\n",
    "print \"Intensity of last port hit:\", xtf_ping0.port.pings[-1]\n"
   ]
  },
  {
   "cell_type": "markdown",
   "metadata": {},
   "source": [
    "## Mesh data\n",
    "\n",
    "Ok, let's look at some mesh data, note that bounds matrix is structured as `[[minx, miny], [maxx, maxy]]`"
   ]
  },
  {
   "cell_type": "code",
   "execution_count": 22,
   "metadata": {},
   "outputs": [],
   "source": [
    "data = np.load(\"mesh_centered.npz\") # load the numpy archive\n",
    "V, F, bounds = data[\"V\"], data[\"F\"], data[\"bounds\"] # pick out the vertices, faces and bounds of the mesh"
   ]
  },
  {
   "cell_type": "markdown",
   "metadata": {},
   "source": [
    "We can use the `mesh_map` library to visualize the mesh, note that the visualization will not show up in this document. Press \"L\" when the visualization window has opened to correctly display colors:"
   ]
  },
  {
   "cell_type": "code",
   "execution_count": 25,
   "metadata": {},
   "outputs": [],
   "source": [
    "mesh_map.show_mesh(V, F)"
   ]
  },
  {
   "cell_type": "markdown",
   "metadata": {},
   "source": [
    "As you can see, the mesh contains noise, mostly from places where the multibeam has not correctly bottom tracked the seabed. These measurements can be filtered by looking at other multibeam measurements from the same place. If one of the measurements deviates from the others, it can be filtered out. One might use e.g. a median filter for this purpose. If you want to construct a new mesh from filtered measurements, use the function:"
   ]
  },
  {
   "cell_type": "code",
   "execution_count": 26,
   "metadata": {},
   "outputs": [],
   "source": [
    "V_f, F_f, bounds_f = mesh_map.mesh_from_pings(std_pings, .5) # .5 is the resolution of the constructed mesh"
   ]
  }
 ],
 "metadata": {
  "kernelspec": {
   "display_name": "Python 2",
   "language": "python",
   "name": "python2"
  },
  "language_info": {
   "codemirror_mode": {
    "name": "ipython",
    "version": 2
   },
   "file_extension": ".py",
   "mimetype": "text/x-python",
   "name": "python",
   "nbconvert_exporter": "python",
   "pygments_lexer": "ipython2",
   "version": "2.7.12"
  }
 },
 "nbformat": 4,
 "nbformat_minor": 2
}
